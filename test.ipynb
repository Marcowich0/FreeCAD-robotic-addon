{
 "cells": [
  {
   "cell_type": "code",
   "execution_count": 6,
   "metadata": {},
   "outputs": [
    {
     "name": "stdout",
     "output_type": "stream",
     "text": [
      "265.0718801466388\n"
     ]
    }
   ],
   "source": [
    "import numpy as np\n",
    "V = (1/2)**2*np.pi\n",
    "rho = 2700\n",
    "m = V*rho\n",
    "I = 1/2*m*(1/2)**2\n",
    "print(I)\n",
    "\n",
    "alpha = 1\n",
    "\n",
    "tau = I*alpha"
   ]
  },
  {
   "cell_type": "code",
   "execution_count": null,
   "metadata": {},
   "outputs": [
    {
     "name": "stdout",
     "output_type": "stream",
     "text": [
      "File not found: d:\\FreeCAD\\Mod\\FreeCAD-robotic-addon\\compute_torque.exp\n",
      "File not found: d:\\FreeCAD\\Mod\\FreeCAD-robotic-addon\\compute_torque.lib\n",
      "File not found: d:\\FreeCAD\\Mod\\FreeCAD-robotic-addon\\compute_torque.pyd\n",
      "File not found: d:\\FreeCAD\\Mod\\FreeCAD-robotic-addon\\inverse_kinematics_cpp.exp\n",
      "File not found: d:\\FreeCAD\\Mod\\FreeCAD-robotic-addon\\inverse_kinematics_cpp.lib\n",
      "File not found: d:\\FreeCAD\\Mod\\FreeCAD-robotic-addon\\inverse_kinematics_cpp.pyd\n"
     ]
    },
    {
     "ename": "FileNotFoundError",
     "evalue": "[Errno 2] No such file or directory: 'robot_dynamic_module\\\\build\\\\Release\\\\compute_torque.exp'",
     "output_type": "error",
     "traceback": [
      "\u001b[1;31m---------------------------------------------------------------------------\u001b[0m",
      "\u001b[1;31mFileNotFoundError\u001b[0m                         Traceback (most recent call last)",
      "Cell \u001b[1;32mIn[13], line 24\u001b[0m\n\u001b[0;32m     22\u001b[0m src \u001b[38;5;241m=\u001b[39m os\u001b[38;5;241m.\u001b[39mpath\u001b[38;5;241m.\u001b[39mjoin(relative_path, file)\n\u001b[0;32m     23\u001b[0m dst \u001b[38;5;241m=\u001b[39m os\u001b[38;5;241m.\u001b[39mpath\u001b[38;5;241m.\u001b[39mjoin(\u001b[38;5;28mdir\u001b[39m, file)\n\u001b[1;32m---> 24\u001b[0m \u001b[43mshutil\u001b[49m\u001b[38;5;241;43m.\u001b[39;49m\u001b[43mcopyfile\u001b[49m\u001b[43m(\u001b[49m\u001b[43msrc\u001b[49m\u001b[43m,\u001b[49m\u001b[43m \u001b[49m\u001b[43mdst\u001b[49m\u001b[43m)\u001b[49m\n\u001b[0;32m     25\u001b[0m \u001b[38;5;28mprint\u001b[39m(\u001b[38;5;124mf\u001b[39m\u001b[38;5;124m\"\u001b[39m\u001b[38;5;124mCopied: \u001b[39m\u001b[38;5;132;01m{\u001b[39;00msrc\u001b[38;5;132;01m}\u001b[39;00m\u001b[38;5;124m -> \u001b[39m\u001b[38;5;132;01m{\u001b[39;00mdst\u001b[38;5;132;01m}\u001b[39;00m\u001b[38;5;124m\"\u001b[39m)\n",
      "File \u001b[1;32md:\\FreeCAD\\bin\\Lib\\shutil.py:256\u001b[0m, in \u001b[0;36mcopyfile\u001b[1;34m(src, dst, follow_symlinks)\u001b[0m\n\u001b[0;32m    254\u001b[0m     os\u001b[38;5;241m.\u001b[39msymlink(os\u001b[38;5;241m.\u001b[39mreadlink(src), dst)\n\u001b[0;32m    255\u001b[0m \u001b[38;5;28;01melse\u001b[39;00m:\n\u001b[1;32m--> 256\u001b[0m     \u001b[38;5;28;01mwith\u001b[39;00m \u001b[38;5;28;43mopen\u001b[39;49m\u001b[43m(\u001b[49m\u001b[43msrc\u001b[49m\u001b[43m,\u001b[49m\u001b[43m \u001b[49m\u001b[38;5;124;43m'\u001b[39;49m\u001b[38;5;124;43mrb\u001b[39;49m\u001b[38;5;124;43m'\u001b[39;49m\u001b[43m)\u001b[49m \u001b[38;5;28;01mas\u001b[39;00m fsrc:\n\u001b[0;32m    257\u001b[0m         \u001b[38;5;28;01mtry\u001b[39;00m:\n\u001b[0;32m    258\u001b[0m             \u001b[38;5;28;01mwith\u001b[39;00m \u001b[38;5;28mopen\u001b[39m(dst, \u001b[38;5;124m'\u001b[39m\u001b[38;5;124mwb\u001b[39m\u001b[38;5;124m'\u001b[39m) \u001b[38;5;28;01mas\u001b[39;00m fdst:\n\u001b[0;32m    259\u001b[0m                 \u001b[38;5;66;03m# macOS\u001b[39;00m\n",
      "\u001b[1;31mFileNotFoundError\u001b[0m: [Errno 2] No such file or directory: 'robot_dynamic_module\\\\build\\\\Release\\\\compute_torque.exp'"
     ]
    }
   ],
   "source": [
    "import os\n",
    "import shutil\n",
    "\n",
    "files = ['compute_torque.exp', 'compute_torque.lib', 'compute_torque.pyd', 'inverse_kinematics_cpp.exp', 'inverse_kinematics_cpp.lib', 'inverse_kinematics_cpp.pyd']\n",
    "\n",
    "# Remove the files from the current directory\n",
    "for file in files:\n",
    "    file_path = os.path.join(dir, file)\n",
    "    if os.path.exists(file_path):\n",
    "        try:\n",
    "            os.remove(file_path)\n",
    "            print(f\"Removed: {file_path}\")\n",
    "        except PermissionError:\n",
    "            print(f\"Could not remove (permission denied): {file_path}\")\n",
    "    else:\n",
    "        print(f\"File not found: {file_path}\")\n",
    "\n",
    "\n",
    "# Copy the files from the build directory\n",
    "relative_path = os.path.join(dir, 'robot_dynamic_module', 'build', 'Release')\n",
    "for file in files:\n",
    "    src = os.path.join(relative_path, file)\n",
    "    dst = os.path.join(dir, file)\n",
    "    shutil.copyfile(src, dst)\n",
    "    print(f\"Copied: {src} -> {dst}\")"
   ]
  }
 ],
 "metadata": {
  "kernelspec": {
   "display_name": "Python 3",
   "language": "python",
   "name": "python3"
  },
  "language_info": {
   "codemirror_mode": {
    "name": "ipython",
    "version": 3
   },
   "file_extension": ".py",
   "mimetype": "text/x-python",
   "name": "python",
   "nbconvert_exporter": "python",
   "pygments_lexer": "ipython3",
   "version": "3.11.10"
  }
 },
 "nbformat": 4,
 "nbformat_minor": 2
}
