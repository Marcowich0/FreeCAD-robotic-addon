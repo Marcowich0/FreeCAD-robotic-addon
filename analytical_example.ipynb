{
 "cells": [
  {
   "cell_type": "code",
   "execution_count": 85,
   "metadata": {},
   "outputs": [],
   "source": [
    "import sympy as sp\n",
    "import numpy as np\n",
    "import math\n",
    "from IPython.display import display, Math\n",
    "def sp_skew(v):\n",
    "   return sp.Matrix([[0, -v[2], v[1]], [v[2], 0, -v[0]], [-v[1], v[0], 0]])\n",
    "\n",
    "\n",
    "def sp_Transformation_matrix(theta , **kwargs):\n",
    "    dim = 3\n",
    "    if type(theta) == int or type(theta) == float:\n",
    "        theta = theta/180*math.pi\n",
    "    try:\n",
    "        if kwargs['angle']=='rad':\n",
    "            theta = theta/math.pi*180\n",
    "    except KeyError:\n",
    "        pass\n",
    "\n",
    "    try:\n",
    "        if kwargs['dim']!=0:\n",
    "            dim = kwargs['dim']\n",
    "    except KeyError:\n",
    "        pass\n",
    "\n",
    "    if dim ==3:\n",
    "        try:\n",
    "            if kwargs['axis']=='z':\n",
    "                return sp.Matrix([[sp.cos(theta),-sp.sin(theta),0],[sp.sin(theta),sp.cos(theta),0],[0,0,1]])\n",
    "            elif kwargs['axis']=='y':\n",
    "                return sp.Matrix([[sp.cos(theta),0,sp.sin(theta)],[0,1,0],[-sp.sin(theta),0,sp.cos(theta)]])\n",
    "            elif kwargs['axis']=='x':\n",
    "                return sp.Matrix([[1,0,0],[0,sp.cos(theta),-sp.sin(theta)],[0,sp.sin(theta),sp.cos(theta)]])\n",
    "        except:\n",
    "            return sp.Matrix([[sp.cos(theta),-sp.sin(theta),0],[sp.sin(theta),sp.cos(theta),0],[0,0,1]])\n",
    "    elif dim==2:\n",
    "        return sp.Matrix([[sp.cos(theta),-sp.sin(theta)],[sp.sin(theta),sp.cos(theta)]])\n",
    "    \n",
    "\n",
    "t = sp.symbols('t')\n",
    "\n",
    "from sympy import N, simplify\n",
    "from sympy.core.numbers import Float\n",
    "\n",
    "def zero_small(expr, tol=1e-12):\n",
    "    return expr.replace(\n",
    "        lambda x: isinstance(x, Float) and abs(x) < tol,\n",
    "        lambda x: 0\n",
    "    )\n",
    "def evaluate(expr, tol=1e-12, digits=2):\n",
    "    return expr.replace(\n",
    "        lambda x: isinstance(x, sp.Float),\n",
    "        lambda x: 0 if abs(x) < tol else round(x, digits)\n",
    "    )\n"
   ]
  },
  {
   "cell_type": "markdown",
   "metadata": {},
   "source": [
    "Kinematics"
   ]
  },
  {
   "cell_type": "code",
   "execution_count": null,
   "metadata": {},
   "outputs": [
    {
     "name": "stdout",
     "output_type": "stream",
     "text": [
      "parameters\n"
     ]
    },
    {
     "data": {
      "text/latex": [
       "$\\displaystyle q = \\mathtt{\\text{[0.78539816 0.78539816]}}\\quad \\dot{q} = \\mathtt{\\text{[0 0]}}\\quad \\ddot{q} = \\mathtt{\\text{[5 0]}}\\quad M = 2\\quad l = 3\\quad I = 1.5$"
      ],
      "text/plain": [
       "<IPython.core.display.Math object>"
      ]
     },
     "metadata": {},
     "output_type": "display_data"
    },
    {
     "data": {
      "text/latex": [
       "$\\displaystyle A1 = \\left[\\begin{matrix}0.707106781186548 & -0.707106781186547 & 0\\\\0.707106781186547 & 0.707106781186548 & 0\\\\0 & 0 & 1\\end{matrix}\\right]\\quad A2 = \\left[\\begin{matrix}0.5 & -0.707 & 0.5\\\\0.5 & 0.707 & 0.5\\\\-0.707 & 0 & 0.707\\end{matrix}\\right]$"
      ],
      "text/plain": [
       "<IPython.core.display.Math object>"
      ]
     },
     "metadata": {},
     "output_type": "display_data"
    },
    {
     "data": {
      "text/latex": [
       "$\\displaystyle Symbolic \\; a_1: \\tilde{a}_1 s_1 + \\tilde{w_1} \\tilde{w_1} s_1 = a_1$"
      ],
      "text/plain": [
       "<IPython.core.display.Math object>"
      ]
     },
     "metadata": {},
     "output_type": "display_data"
    },
    {
     "data": {
      "text/latex": [
       "$\\displaystyle Components \\; a_1: \\left[\\begin{matrix}-5.30330085889911\\\\-5.30330085889911\\\\0\\end{matrix}\\right] + \\left[\\begin{matrix}0\\\\0\\\\0\\end{matrix}\\right]$"
      ],
      "text/plain": [
       "<IPython.core.display.Math object>"
      ]
     },
     "metadata": {},
     "output_type": "display_data"
    },
    {
     "data": {
      "text/latex": [
       "$\\displaystyle Symbolic \\; a_2: \\tilde{a}_1 s_1 + \\tilde{w_1} \\tilde{w_1} s_1 + \\tilde{a_2} r_2 + \\tilde{w_2} \\tilde{w_2} r_2 = a_2$"
      ],
      "text/plain": [
       "<IPython.core.display.Math object>"
      ]
     },
     "metadata": {},
     "output_type": "display_data"
    },
    {
     "data": {
      "text/latex": [
       "$\\displaystyle Components \\; a_2: \\left[\\begin{matrix}-10.6066017177982\\\\-10.6066017177982\\\\0\\end{matrix}\\right] + \\left[\\begin{matrix}0\\\\0\\\\0\\end{matrix}\\right] + \\left[\\begin{matrix}-3.75\\\\3.75\\\\0\\end{matrix}\\right] + \\left[\\begin{matrix}0\\\\0\\\\0\\end{matrix}\\right]$"
      ],
      "text/plain": [
       "<IPython.core.display.Math object>"
      ]
     },
     "metadata": {},
     "output_type": "display_data"
    },
    {
     "name": "stdout",
     "output_type": "stream",
     "text": [
      "kinematics\n"
     ]
    },
    {
     "data": {
      "text/latex": [
       "$\\displaystyle w1 = \\left[\\begin{matrix}0\\\\0\\\\0\\end{matrix}\\right]\\quad w2 = \\left[\\begin{matrix}0\\\\0\\\\0\\end{matrix}\\right]\\quad \\alpha1 = \\left[\\begin{matrix}0\\\\0\\\\5\\end{matrix}\\right]\\quad \\alpha2 = \\left[\\begin{matrix}0\\\\0\\\\5\\end{matrix}\\right]$"
      ],
      "text/plain": [
       "<IPython.core.display.Math object>"
      ]
     },
     "metadata": {},
     "output_type": "display_data"
    },
    {
     "data": {
      "text/latex": [
       "$\\displaystyle a1 = \\left[\\begin{matrix}-5.30330085889911\\\\-5.30330085889911\\\\0\\end{matrix}\\right]\\quad a2 = \\left[\\begin{matrix}-14.4\\\\-6.86\\\\0\\end{matrix}\\right]$"
      ],
      "text/plain": [
       "<IPython.core.display.Math object>"
      ]
     },
     "metadata": {},
     "output_type": "display_data"
    }
   ],
   "source": [
    "q = np.array([0,np.pi/4])\n",
    "q_dot = np.array([10, 10])\n",
    "q_ddot = np.array([0,0])\n",
    "\n",
    "M = 2\n",
    "l = 3\n",
    "I = 1/12 * M * l**2\n",
    "\n",
    "print(\"parameters\")\n",
    "display(Math(r'q = ' + sp.latex(q) + r'\\quad \\dot{q} = ' + sp.latex(q_dot) + r'\\quad \\ddot{q} = ' + sp.latex(q_ddot) + r'\\quad M = ' + str(M) + r'\\quad l = ' + str(l) + r'\\quad I = ' + str(I)))\n",
    "\n",
    "A1 = sp_Transformation_matrix(q[0], axis='z')\n",
    "A2 = A1*sp_Transformation_matrix(q[1], axis='y')\n",
    "\n",
    "display(Math(r'A1 = ' + sp.latex(A1) + r'\\quad A2 = ' + sp.latex(A2.evalf(3))))\n",
    "\n",
    "s1 = sp.Matrix([0 , l , 0])\n",
    "\n",
    "r1 = sp.Matrix([0, l/2 , 0  ])\n",
    "r2 = sp.Matrix([0  , 0 , l/2])\n",
    "\n",
    "w1p = sp.Matrix([0,0,q_dot[0]])\n",
    "w2p = sp.Matrix([0,q_dot[1],0])\n",
    "\n",
    "alpha1p = sp.Matrix([0,0,q_ddot[0]])\n",
    "alpha2p = sp.Matrix([0,q_ddot[1],0])\n",
    "\n",
    "w1 = w1p\n",
    "w2 = w1 + A1 * w2p\n",
    "\n",
    "alpha1 = alpha1p\n",
    "alpha2 = alpha1 + sp_skew(w1) * A1 * w2p + A1 * alpha2p\n",
    "\n",
    "\n",
    "a1 = sp_skew(alpha1) * A1 * r1 + sp_skew(w1) * sp_skew(w1) * A1 * r1\n",
    "display(Math(r'Symbolic \\; a_1: \\tilde{a}_1 s_1 + \\tilde{w_1} \\tilde{w_1} s_1 = a_1'))\n",
    "display(Math(r'Components \\; a_1: ' + sp.latex(sp_skew(alpha1) * A1 * r1) + r' + ' + sp.latex(sp_skew(w1) * sp_skew(w1) * A1 * r1)))\n",
    "a2 = (sp_skew(alpha1) * A1 * s1 + sp_skew(w1) * sp_skew(w1) * A1 * s1 + \n",
    "      sp_skew(alpha2) * A2 * r2 + sp_skew(w2) * sp_skew(w2) * A2 * r2)\n",
    "display(Math(r'Symbolic \\; a_2: \\tilde{a}_1 s_1 + \\tilde{w_1} \\tilde{w_1} s_1 + \\tilde{a_2} r_2 + \\tilde{w_2} \\tilde{w_2} r_2 = a_2'))\n",
    "display(Math(r'Components \\; a_2: ' + sp.latex(sp_skew(alpha1) * A1 * s1) + r' + ' + sp.latex(sp_skew(w1) * sp_skew(w1) * A1 * s1) + r' + ' + sp.latex(sp_skew(alpha2) * A2 * r2) + r' + ' + sp.latex(sp_skew(w2) * sp_skew(w2) * A2 * r2)))\n",
    "\n",
    "print(\"kinematics\")\n",
    "\n",
    "display(Math(r'w1 = ' + sp.latex(w1) + r'\\quad w2 = ' + sp.latex(w2) + r'\\quad \\alpha1 = ' + sp.latex(alpha1) + r'\\quad \\alpha2 = ' + sp.latex(alpha2)))\n",
    "display(Math(r'a1 = ' + sp.latex(a1) + r'\\quad a2 = ' + sp.latex(a2.evalf(3)) ))"
   ]
  },
  {
   "cell_type": "markdown",
   "metadata": {},
   "source": [
    "Dynamics"
   ]
  },
  {
   "cell_type": "code",
   "execution_count": 87,
   "metadata": {},
   "outputs": [
    {
     "data": {
      "text/latex": [
       "$\\displaystyle M1 = \\left[\\begin{matrix}2 & 0 & 0\\\\0 & 2 & 0\\\\0 & 0 & 2\\end{matrix}\\right]\\quad M2 = \\left[\\begin{matrix}2 & 0 & 0\\\\0 & 2 & 0\\\\0 & 0 & 2\\end{matrix}\\right]\\quad I1 = \\left[\\begin{matrix}0 & 0 & 0\\\\1.06 & 1.06 & 0\\\\0 & 0 & 1.5\\end{matrix}\\right]\\quad I2 = \\left[\\begin{matrix}1.12 & -0.38 & -0.53\\\\-0.38 & 1.12 & -0.53\\\\-0.53 & -0.53 & 0.75\\end{matrix}\\right]$"
      ],
      "text/plain": [
       "<IPython.core.display.Math object>"
      ]
     },
     "metadata": {},
     "output_type": "display_data"
    },
    {
     "data": {
      "text/latex": [
       "$\\displaystyle Symbolic \\; R_2: \\quad \\quad -m \\cdot a_2 + m \\cdot g = F_2$"
      ],
      "text/plain": [
       "<IPython.core.display.Math object>"
      ]
     },
     "metadata": {},
     "output_type": "display_data"
    },
    {
     "data": {
      "text/latex": [
       "$\\displaystyle Componants \\; of \\; R2: \\left[\\begin{matrix}28.71\\\\13.71\\\\0\\end{matrix}\\right] + \\left[\\begin{matrix}0\\\\0\\\\-19.62\\end{matrix}\\right] = \\left[\\begin{matrix}28.71\\\\13.71\\\\-19.62\\end{matrix}\\right]$"
      ],
      "text/plain": [
       "<IPython.core.display.Math object>"
      ]
     },
     "metadata": {},
     "output_type": "display_data"
    },
    {
     "data": {
      "text/latex": [
       "$\\displaystyle Symbolic \\; M_2: \\quad \\quad \\quad I \\cdot \\alpha_2 +             \\omega_2 \\times I_2 \\cdot \\omega_2 +                       (-r_2) \\times (-R_2) =                              T_2$"
      ],
      "text/plain": [
       "<IPython.core.display.Math object>"
      ]
     },
     "metadata": {},
     "output_type": "display_data"
    },
    {
     "data": {
      "text/latex": [
       "$\\displaystyle Componants \\; of \\; M_2: \\left[\\begin{matrix}-2.65\\\\-2.65\\\\3.75\\end{matrix}\\right] + \\left[\\begin{matrix}0\\\\0\\\\0\\end{matrix}\\right] + \\left[\\begin{matrix}-29.26\\\\45.17\\\\-11.25\\end{matrix}\\right] = \\left[\\begin{matrix}-26.61\\\\47.82\\\\-15.0\\end{matrix}\\right]$"
      ],
      "text/plain": [
       "<IPython.core.display.Math object>"
      ]
     },
     "metadata": {},
     "output_type": "display_data"
    },
    {
     "data": {
      "text/latex": [
       "$\\displaystyle \\left[\\begin{matrix}1.06066017177982\\\\0\\\\-1.06066017177982\\end{matrix}\\right]$"
      ],
      "text/plain": [
       "Matrix([\n",
       "[ 1.06066017177982],\n",
       "[                0],\n",
       "[-1.06066017177982]])"
      ]
     },
     "metadata": {},
     "output_type": "display_data"
    },
    {
     "data": {
      "text/latex": [
       "$\\displaystyle Symbolic \\; R_1: \\quad \\quad -m \\cdot a_1 + F_2 + m \\cdot g = F_1$"
      ],
      "text/plain": [
       "<IPython.core.display.Math object>"
      ]
     },
     "metadata": {},
     "output_type": "display_data"
    },
    {
     "data": {
      "text/latex": [
       "$\\displaystyle Componants \\; of \\; R1: \\left[\\begin{matrix}10.61\\\\10.61\\\\0\\end{matrix}\\right] + \\left[\\begin{matrix}28.71\\\\13.71\\\\-19.62\\end{matrix}\\right] + \\left[\\begin{matrix}0\\\\0\\\\-19.62\\end{matrix}\\right] = \\left[\\begin{matrix}39.32\\\\24.32\\\\-39.24\\end{matrix}\\right]$"
      ],
      "text/plain": [
       "<IPython.core.display.Math object>"
      ]
     },
     "metadata": {},
     "output_type": "display_data"
    },
    {
     "data": {
      "text/latex": [
       "$\\displaystyle Symbolic \\; M_1: \\quad \\quad I \\cdot \\alpha_1 + \\omega_1 \\times I_1 \\cdot \\omega_1 - r_1 \\times F_2 + r_1 \\times F_1 + T_2 = T_1$"
      ],
      "text/plain": [
       "<IPython.core.display.Math object>"
      ]
     },
     "metadata": {},
     "output_type": "display_data"
    },
    {
     "data": {
      "text/latex": [
       "$\\displaystyle Componants \\; of \\; M_1: \\left[\\begin{matrix}0\\\\0\\\\7.5\\end{matrix}\\right] + \\left[\\begin{matrix}0\\\\0\\\\0\\end{matrix}\\right] - \\left[\\begin{matrix}-20.81\\\\-20.81\\\\-45.0\\end{matrix}\\right] - \\left[\\begin{matrix}-41.62\\\\-41.62\\\\-67.5\\end{matrix}\\right] + \\left[\\begin{matrix}-26.61\\\\47.82\\\\-15.0\\end{matrix}\\right] = \\left[\\begin{matrix}-89.04\\\\-14.61\\\\-135.0\\end{matrix}\\right]$"
      ],
      "text/plain": [
       "<IPython.core.display.Math object>"
      ]
     },
     "metadata": {},
     "output_type": "display_data"
    },
    {
     "name": "stdout",
     "output_type": "stream",
     "text": [
      "Equations of motion (symbolic)\n"
     ]
    },
    {
     "data": {
      "text/latex": [
       "$\\displaystyle F = m \\cdot a \\quad T = I \\cdot \\alpha + \\omega \\times I \\cdot \\omega + r \\times m \\cdot a$"
      ],
      "text/plain": [
       "<IPython.core.display.Math object>"
      ]
     },
     "metadata": {},
     "output_type": "display_data"
    },
    {
     "name": "stdout",
     "output_type": "stream",
     "text": [
      "forces and torques\n"
     ]
    },
    {
     "data": {
      "text/latex": [
       "$\\displaystyle F1 = \\left[\\begin{matrix}45.0\\\\-10.61\\\\-39.24\\end{matrix}\\right]\\quad M1 = \\left[\\begin{matrix}-73.29\\\\52.63\\\\-135.0\\end{matrix}\\right]\\quad F2 = \\left[\\begin{matrix}35.09\\\\-10.61\\\\7.34\\end{matrix}\\right]\\quad M2 = \\left[\\begin{matrix}21.21\\\\52.63\\\\0\\end{matrix}\\right]$"
      ],
      "text/plain": [
       "<IPython.core.display.Math object>"
      ]
     },
     "metadata": {},
     "output_type": "display_data"
    }
   ],
   "source": [
    "# Definitions\n",
    "M1 = sp.Matrix([[M, 0, 0], [0, M, 0], [0, 0, M]])\n",
    "M2 = sp.Matrix([[M, 0, 0], [0, M, 0], [0, 0, M]])\n",
    "\n",
    "I1 = A1 * sp.Matrix([[I, 0, 0], [0, 0, 0], [0, 0, I]]) * A1.inv()\n",
    "I2 = A2 * sp.Matrix([[I, 0, 0], [0, I, 0], [0, 0, 0]]) * A2.inv()\n",
    "\n",
    "display(Math(r'M1 = ' + sp.latex(M1) +\n",
    "             r'\\quad M2 = ' + sp.latex(M2) +\n",
    "             r'\\quad I1 = ' + sp.latex(evaluate(A1 * I1)) +\n",
    "             r'\\quad I2 = ' + sp.latex(evaluate(I2))))\n",
    "\n",
    "g = sp.Matrix([0, 0, -9.81])\n",
    "\n",
    "Force2 = - M2 * a2 + M2 * g\n",
    "\n",
    "\n",
    "display(Math(r'Symbolic \\; R_2: \\quad \\quad -m \\cdot a_2 + m \\cdot g = F_2'))\n",
    "display(Math(r'Componants \\; of \\; R2: ' +\n",
    "             sp.latex(evaluate(-M2 * a2)) + r' + ' +\n",
    "             sp.latex(evaluate(M2 * g)) + r' = ' +\n",
    "             sp.latex(evaluate(Force2))))\n",
    "\n",
    "Torque2 = -I2 * alpha2 - sp_skew(w2) * I2 * w2 + sp_skew(A2 * (-r2)) * (-Force2)\n",
    "\n",
    "\n",
    "display(Math(r'Symbolic \\; M_2: \\quad \\quad \\quad I \\cdot \\alpha_2 +             \\omega_2 \\times I_2 \\cdot \\omega_2 +                       (-r_2) \\times (-R_2) =                              T_2'))\n",
    "\n",
    "display(Math(r'Componants \\; of \\; M_2: ' +\n",
    "             sp.latex(evaluate(I2 * alpha2)) + r' + ' +\n",
    "             sp.latex(evaluate(sp_skew(w2) * I2 * w2)) + r' + ' +\n",
    "             sp.latex(evaluate(sp_skew(A2 * (-r2)) * (-Force2))) + r' = ' +\n",
    "             sp.latex(evaluate(Torque2))))\n",
    "\n",
    "display(A2.inv() * (-r2))\n",
    "Force1 = -M1 * a1 + Force2 + M1 * g\n",
    "\n",
    "display(Math(r'Symbolic \\; R_1: \\quad \\quad -m \\cdot a_1 + F_2 + m \\cdot g = F_1'))\n",
    "\n",
    "display(Math(r'Componants \\; of \\; R1: ' +\n",
    "             sp.latex(evaluate(-M1 * a1)) + r' + ' +\n",
    "             sp.latex(evaluate(Force2)) + r' + ' +\n",
    "             sp.latex(evaluate(M1 * g)) + r' = ' +\n",
    "             sp.latex(evaluate(Force1))))\n",
    "\n",
    "Torque1 = -I1 * alpha1 - sp_skew(w1) * I1 * w1 + sp_skew(A1 * r1) * (Force2) + sp_skew(A1 * (-r1)) * (-Force1) + Torque2\n",
    "\n",
    "display(Math(r'Symbolic \\; M_1: \\quad \\quad I \\cdot \\alpha_1 + \\omega_1 \\times I_1 \\cdot \\omega_1 - r_1 \\times F_2 + r_1 \\times F_1 + T_2 = T_1'))\n",
    "\n",
    "display(Math(r'Componants \\; of \\; M_1: ' +\n",
    "             sp.latex(evaluate(I1 * alpha1)) + r' + ' +\n",
    "             sp.latex(evaluate(sp_skew(w1) * I1 * w1)) + r' - ' +\n",
    "             sp.latex(evaluate(sp_skew(A1 * r1) * Force2)) + r' - ' +\n",
    "             sp.latex(evaluate(sp_skew(A1 * (-r1)) * (-Force1))) + r' + ' +\n",
    "             sp.latex(evaluate(Torque2)) + r' = ' +\n",
    "             sp.latex(evaluate(Torque1))))\n",
    "\n",
    "print(\"Equations of motion (symbolic)\")\n",
    "display(Math(r'F = m \\cdot a \\quad T = I \\cdot \\alpha + \\omega \\times I \\cdot \\omega + r \\times m \\cdot a'))\n",
    "\n",
    "print(\"forces and torques\")\n",
    "display(Math(\n",
    "    r'F1 = ' + sp.latex(evaluate(A1.inv()*Force1)) +\n",
    "    r'\\quad M1 = ' + sp.latex(evaluate(A1.inv()*Torque1)) +\n",
    "    r'\\quad F2 = ' + sp.latex(evaluate(A2.inv()*Force2)) +\n",
    "    r'\\quad M2 = ' + sp.latex(evaluate(A2.inv()*Torque2))\n",
    "))"
   ]
  },
  {
   "cell_type": "code",
   "execution_count": 88,
   "metadata": {},
   "outputs": [
    {
     "name": "stdout",
     "output_type": "stream",
     "text": [
      "torque\n",
      "30.0\n",
      "120.00000000000001\n",
      "150.0\n",
      "Matrix([[0], [0], [-19.6200000000000]])\n",
      "-20.810152570320096\n"
     ]
    }
   ],
   "source": [
    "I1 = 1/12 * M * l**2  +  M * (l/2)**2\n",
    "I2 = 1/12 * M * l**2  +  M * (np.sqrt(l**2+l**2/4))**2\n",
    "I = I1 + I2\n",
    "torque = q_ddot[0] * I1 + q_ddot[0]*I2\n",
    "\n",
    "print(\"torque\")\n",
    "print(q_ddot[0]*I1)\n",
    "print(q_ddot[0]*I2)\n",
    "print(torque)\n",
    "\n",
    "print(M*g)\n",
    "print(M*(-9.81)*l/2*np.cos(q[0]))\n",
    "\n"
   ]
  }
 ],
 "metadata": {
  "kernelspec": {
   "display_name": "math",
   "language": "python",
   "name": "python3"
  },
  "language_info": {
   "codemirror_mode": {
    "name": "ipython",
    "version": 3
   },
   "file_extension": ".py",
   "mimetype": "text/x-python",
   "name": "python",
   "nbconvert_exporter": "python",
   "pygments_lexer": "ipython3",
   "version": "3.13.2"
  }
 },
 "nbformat": 4,
 "nbformat_minor": 2
}
