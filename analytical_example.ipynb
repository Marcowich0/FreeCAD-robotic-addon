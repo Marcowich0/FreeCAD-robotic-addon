{
 "cells": [
  {
   "cell_type": "code",
   "execution_count": 62,
   "metadata": {},
   "outputs": [],
   "source": [
    "import sympy as sp\n",
    "import numpy as np\n",
    "from IPython.display import display, Math\n",
    "def sp_skew(v):\n",
    "   return sp.Matrix([[0, -v[2], v[1]], \n",
    "                     [v[2], 0, -v[0]], \n",
    "                     [-v[1], v[0], 0]])\n",
    "\n",
    "\n",
    "def sp_Transformation_matrix(theta , **kwargs):\n",
    "    dim = 3\n",
    "    if type(theta) == int or type(theta) == float:\n",
    "        theta = theta/180*np.pi\n",
    "    try:\n",
    "        if kwargs['angle']=='rad':\n",
    "            theta = theta/np.pi*180\n",
    "    except KeyError:\n",
    "        pass\n",
    "\n",
    "    try:\n",
    "        if kwargs['dim']!=0:\n",
    "            dim = kwargs['dim']\n",
    "    except KeyError:\n",
    "        pass\n",
    "\n",
    "    if dim ==3:\n",
    "        try:\n",
    "            if kwargs['axis']=='z':\n",
    "                return sp.Matrix([[sp.cos(theta),-sp.sin(theta),0],[sp.sin(theta),sp.cos(theta),0],[0,0,1]])\n",
    "            elif kwargs['axis']=='y':\n",
    "                return sp.Matrix([[sp.cos(theta),0,sp.sin(theta)],[0,1,0],[-sp.sin(theta),0,sp.cos(theta)]])\n",
    "            elif kwargs['axis']=='x':\n",
    "                return sp.Matrix([[1,0,0],[0,sp.cos(theta),-sp.sin(theta)],[0,sp.sin(theta),sp.cos(theta)]])\n",
    "        except:\n",
    "            return sp.Matrix([[sp.cos(theta),-sp.sin(theta),0],[sp.sin(theta),sp.cos(theta),0],[0,0,1]])\n",
    "    elif dim==2:\n",
    "        return sp.Matrix([[sp.cos(theta),-sp.sin(theta)],[sp.sin(theta),sp.cos(theta)]])\n",
    "    \n",
    "\n",
    "t = sp.symbols('t')\n",
    "from sympy.core.numbers import Float\n",
    "\n",
    "def zero_small(expr, tol=1e-12):\n",
    "    return expr.replace(\n",
    "        lambda x: isinstance(x, Float) and abs(x) < tol,\n",
    "        lambda x: 0\n",
    "    )\n",
    "def evaluate(expr, tol=1e-12, digits=4):\n",
    "    return expr.replace(\n",
    "        lambda x: isinstance(x, sp.Float),\n",
    "        lambda x: 0 if abs(x) < tol else round(x, digits)\n",
    "    )\n"
   ]
  },
  {
   "cell_type": "markdown",
   "metadata": {},
   "source": [
    "Kinematics"
   ]
  },
  {
   "cell_type": "code",
   "execution_count": 63,
   "metadata": {},
   "outputs": [
    {
     "name": "stdout",
     "output_type": "stream",
     "text": [
      "parameters\n"
     ]
    },
    {
     "data": {
      "text/latex": [
       "$\\displaystyle q = \\mathtt{\\text{[0.62831853 1.04719755]}}\\quad \\dot{q} = \\mathtt{\\text{[3 7]}}\\quad \\ddot{q} = \\mathtt{\\text{[4 9]}}\\quad M = 2\\quad l = 3\\quad I = 1.5$"
      ],
      "text/plain": [
       "<IPython.core.display.Math object>"
      ]
     },
     "metadata": {},
     "output_type": "display_data"
    },
    {
     "data": {
      "text/latex": [
       "$\\displaystyle A1 = \\left[\\begin{matrix}0.809016994374947 & -0.587785252292473 & 0\\\\0.587785252292473 & 0.809016994374947 & 0\\\\0 & 0 & 1\\end{matrix}\\right]\\quad A2 = \\left[\\begin{matrix}0.404 & -0.588 & 0.701\\\\0.294 & 0.809 & 0.509\\\\-0.866 & 0 & 0.5\\end{matrix}\\right]$"
      ],
      "text/plain": [
       "<IPython.core.display.Math object>"
      ]
     },
     "metadata": {},
     "output_type": "display_data"
    },
    {
     "data": {
      "text/latex": [
       "$\\displaystyle Symbolic \\; a_1: \\tilde{a}_1 s_1 + \\tilde{w_1} \\tilde{w_1} s_1 = a_1$"
      ],
      "text/plain": [
       "<IPython.core.display.Math object>"
      ]
     },
     "metadata": {},
     "output_type": "display_data"
    },
    {
     "data": {
      "text/latex": [
       "$\\displaystyle Symbolic \\; a_2: \\tilde{a}_1 s_1 + \\tilde{w_1} \\tilde{w_1} s_1 + \\tilde{a_2} r_2 + \\tilde{w_2} \\tilde{w_2} r_2 = a_2$"
      ],
      "text/plain": [
       "<IPython.core.display.Math object>"
      ]
     },
     "metadata": {},
     "output_type": "display_data"
    },
    {
     "name": "stdout",
     "output_type": "stream",
     "text": [
      "kinematics\n"
     ]
    },
    {
     "data": {
      "text/latex": [
       "$\\displaystyle w1 = \\left[\\begin{matrix}0\\\\0\\\\3\\end{matrix}\\right]\\quad w2 = \\left[\\begin{matrix}-4.11449676604731\\\\5.66311896062463\\\\3\\end{matrix}\\right]\\quad \\alpha1 = \\left[\\begin{matrix}0\\\\0\\\\4\\end{matrix}\\right]\\quad \\alpha2 = \\left[\\begin{matrix}-22.2794241525062\\\\-5.06233734876741\\\\4\\end{matrix}\\right]$"
      ],
      "text/plain": [
       "<IPython.core.display.Math object>"
      ]
     },
     "metadata": {},
     "output_type": "display_data"
    },
    {
     "data": {
      "text/latex": [
       "$\\displaystyle a1 = \\left[\\begin{matrix}3.0809989396987\\\\-14.4484409378166\\\\0\\end{matrix}\\right]\\quad a2 = \\left[\\begin{matrix}-70.9\\\\-39.5\\\\-48.4\\end{matrix}\\right]$"
      ],
      "text/plain": [
       "<IPython.core.display.Math object>"
      ]
     },
     "metadata": {},
     "output_type": "display_data"
    }
   ],
   "source": [
    "q = np.array([np.pi/5,np.pi/3])\n",
    "q_dot = np.array([3, 7])\n",
    "q_ddot = np.array([4,9])\n",
    "\n",
    "M = 2\n",
    "l = 3\n",
    "I = 1/12 * M * l**2\n",
    "\n",
    "print(\"parameters\")\n",
    "display(Math(r'q = ' + sp.latex(q) + r'\\quad \\dot{q} = ' + sp.latex(q_dot) + r'\\quad \\ddot{q} = ' + sp.latex(q_ddot) + r'\\quad M = ' + str(M) + r'\\quad l = ' + str(l) + r'\\quad I = ' + str(I)))\n",
    "\n",
    "A1 = sp_Transformation_matrix(q[0], axis='z')\n",
    "A2 = A1*sp_Transformation_matrix(q[1], axis='y')\n",
    "\n",
    "display(Math(r'A1 = ' + sp.latex(A1) + r'\\quad A2 = ' + sp.latex(A2.evalf(3))))\n",
    "\n",
    "s1 = sp.Matrix([0 , l , 0])\n",
    "\n",
    "r1 = sp.Matrix([0, l/2 , 0  ])\n",
    "r2 = sp.Matrix([0  , 0 , l/2])\n",
    "\n",
    "w1p = sp.Matrix([0,0,q_dot[0]])\n",
    "w2p = sp.Matrix([0,q_dot[1],0])\n",
    "\n",
    "alpha1p = sp.Matrix([0,0,q_ddot[0]])\n",
    "alpha2p = sp.Matrix([0,q_ddot[1],0])\n",
    "\n",
    "w1 = w1p\n",
    "w2 = w1 + A1 * w2p\n",
    "\n",
    "alpha1 = alpha1p\n",
    "alpha2 = alpha1 + sp_skew(w1) * A1 * w2p + A1 * alpha2p\n",
    "\n",
    "\n",
    "a1 = sp_skew(alpha1) * A1 * r1 + sp_skew(w1) * sp_skew(w1) * A1 * r1\n",
    "a2 = (sp_skew(alpha1) * A1 * s1 + sp_skew(w1) * sp_skew(w1) * A1 * s1 + \n",
    "      sp_skew(alpha2) * A2 * r2 + sp_skew(w2) * sp_skew(w2) * A2 * r2)\n",
    "display(Math(r'Symbolic \\; a_1: \\tilde{a}_1 s_1 + \\tilde{w_1} \\tilde{w_1} s_1 = a_1'))\n",
    "display(Math(r'Symbolic \\; a_2: \\tilde{a}_1 s_1 + \\tilde{w_1} \\tilde{w_1} s_1 + \\tilde{a_2} r_2 + \\tilde{w_2} \\tilde{w_2} r_2 = a_2'))\n",
    "\n",
    "print(\"kinematics\")\n",
    "\n",
    "display(Math(r'w1 = ' + sp.latex(w1) + r'\\quad w2 = ' + sp.latex(w2) + r'\\quad \\alpha1 = ' + sp.latex(alpha1) + r'\\quad \\alpha2 = ' + sp.latex(alpha2)))\n",
    "display(Math(r'a1 = ' + sp.latex(a1) + r'\\quad a2 = ' + sp.latex(a2.evalf(3)) ))"
   ]
  },
  {
   "cell_type": "markdown",
   "metadata": {},
   "source": [
    "Dynamics"
   ]
  },
  {
   "cell_type": "code",
   "execution_count": 64,
   "metadata": {},
   "outputs": [
    {
     "data": {
      "text/latex": [
       "$\\displaystyle M1 = \\left[\\begin{matrix}2 & 0 & 0\\\\0 & 2 & 0\\\\0 & 0 & 2\\end{matrix}\\right]\\quad M2 = \\left[\\begin{matrix}2 & 0 & 0\\\\0 & 2 & 0\\\\0 & 0 & 2\\end{matrix}\\right]\\quad I1 = \\left[\\begin{matrix}0.375 & 0.2725 & 0\\\\1.1541 & 0.8385 & 0\\\\0 & 0 & 1.5\\end{matrix}\\right]\\quad I2 = \\left[\\begin{matrix}0.7637 & -0.535 & -0.5255\\\\-0.535 & 1.1113 & -0.3818\\\\-0.5255 & -0.3818 & 1.125\\end{matrix}\\right]$"
      ],
      "text/plain": [
       "<IPython.core.display.Math object>"
      ]
     },
     "metadata": {},
     "output_type": "display_data"
    },
    {
     "data": {
      "text/latex": [
       "$\\displaystyle Symbolic \\; R_2: \\quad \\quad -m \\cdot a_2 + m \\cdot g = F_2$"
      ],
      "text/plain": [
       "<IPython.core.display.Math object>"
      ]
     },
     "metadata": {},
     "output_type": "display_data"
    },
    {
     "data": {
      "text/latex": [
       "$\\displaystyle Symbolic \\; M_2: \\quad \\quad \\quad I \\cdot \\alpha_2 + \\omega_2 \\times I_2 \\cdot \\omega_2 + (-r_2) \\times (-R_2) = T_2$"
      ],
      "text/plain": [
       "<IPython.core.display.Math object>"
      ]
     },
     "metadata": {},
     "output_type": "display_data"
    },
    {
     "data": {
      "text/latex": [
       "$\\displaystyle Symbolic \\; R_1: \\quad \\quad -m \\cdot a_1 + F_2 + m \\cdot g = F_1$"
      ],
      "text/plain": [
       "<IPython.core.display.Math object>"
      ]
     },
     "metadata": {},
     "output_type": "display_data"
    },
    {
     "data": {
      "text/latex": [
       "$\\displaystyle Symbolic \\; M_1: \\quad \\quad I \\cdot \\alpha_1 + \\omega_1 \\times I_1 \\cdot \\omega_1 - r_1 \\times F_2 + r_1 \\times F_1 + T_2 = T_1$"
      ],
      "text/plain": [
       "<IPython.core.display.Math object>"
      ]
     },
     "metadata": {},
     "output_type": "display_data"
    },
    {
     "name": "stdout",
     "output_type": "stream",
     "text": [
      "Equations of motion (symbolic)\n"
     ]
    },
    {
     "data": {
      "text/latex": [
       "$\\displaystyle F = m \\cdot a \\quad T = I \\cdot \\alpha + \\omega \\times I \\cdot \\omega + r \\times m \\cdot a$"
      ],
      "text/plain": [
       "<IPython.core.display.Math object>"
      ]
     },
     "metadata": {},
     "output_type": "display_data"
    },
    {
     "name": "stdout",
     "output_type": "stream",
     "text": [
      "forces and torques\n"
     ]
    },
    {
     "data": {
      "text/latex": [
       "$\\displaystyle F1 = \\left[\\begin{matrix}-173.1884\\\\-7.6077\\\\-57.6427\\end{matrix}\\right]\\quad M1 = \\left[\\begin{matrix}-235.250362551953\\\\-12.8698135355559\\\\564.536403945777\\end{matrix}\\right]\\quad F2 = \\left[\\begin{matrix}-13.6828\\\\19.3923\\\\-178.2246\\end{matrix}\\right]\\quad M2 = \\left[\\begin{matrix}-65.7846096908266\\\\-12.8698135355559\\\\0\\end{matrix}\\right]$"
      ],
      "text/plain": [
       "<IPython.core.display.Math object>"
      ]
     },
     "metadata": {},
     "output_type": "display_data"
    },
    {
     "name": "stdout",
     "output_type": "stream",
     "text": [
      "Joint torques\n"
     ]
    },
    {
     "data": {
      "text/latex": [
       "$\\displaystyle \\tau_1 = 564.5364\\quad \\tau_2 = -12.8698$"
      ],
      "text/plain": [
       "<IPython.core.display.Math object>"
      ]
     },
     "metadata": {},
     "output_type": "display_data"
    }
   ],
   "source": [
    "# Definitions\n",
    "M1 = sp.Matrix([[M, 0, 0], [0, M, 0], [0, 0, M]])\n",
    "M2 = sp.Matrix([[M, 0, 0], [0, M, 0], [0, 0, M]])\n",
    "\n",
    "I1 = A1 * sp.Matrix([[I, 0, 0], [0, 0, 0], [0, 0, I]]) * A1.inv()\n",
    "I2 = A2 * sp.Matrix([[I, 0, 0], [0, I, 0], [0, 0, 0]]) * A2.inv()\n",
    "\n",
    "display(Math(r'M1 = ' + sp.latex(M1) +\n",
    "             r'\\quad M2 = ' + sp.latex(M2) +\n",
    "             r'\\quad I1 = ' + sp.latex(evaluate(A1 * I1)) +\n",
    "             r'\\quad I2 = ' + sp.latex(evaluate(I2))))\n",
    "\n",
    "g = sp.Matrix([0, 0, -9.81])\n",
    "\n",
    "Force2 =  M2 * a2 - M2 * g\n",
    "Torque2 = I2 * alpha2 + sp_skew(w2) * I2 * w2 - sp_skew(A2 * (-r2)) * Force2\n",
    "Force1 = M1 * a1 + Force2 - M1 * g\n",
    "Torque1 = I1 * alpha1 + sp_skew(w1) * I1 * w1 - sp_skew(A1 * r1) * (-Force2) - sp_skew(A1 * (-r1)) * (Force1) + Torque2\n",
    "\n",
    "display(Math(r'Symbolic \\; R_2: \\quad \\quad -m \\cdot a_2 + m \\cdot g = F_2'))\n",
    "display(Math(r'Symbolic \\; M_2: \\quad \\quad \\quad I \\cdot \\alpha_2 + \\omega_2 \\times I_2 \\cdot \\omega_2 + (-r_2) \\times (-R_2) = T_2'))\n",
    "display(Math(r'Symbolic \\; R_1: \\quad \\quad -m \\cdot a_1 + F_2 + m \\cdot g = F_1'))\n",
    "display(Math(r'Symbolic \\; M_1: \\quad \\quad I \\cdot \\alpha_1 + \\omega_1 \\times I_1 \\cdot \\omega_1 - r_1 \\times F_2 + r_1 \\times F_1 + T_2 = T_1'))\n",
    "\n",
    "\n",
    "print(\"Equations of motion (symbolic)\")\n",
    "display(Math(r'F = m \\cdot a \\quad T = I \\cdot \\alpha + \\omega \\times I \\cdot \\omega + r \\times m \\cdot a'))\n",
    "\n",
    "print(\"forces and torques\")\n",
    "display(Math(\n",
    "    r'F1 = ' + sp.latex(evaluate(A1.inv()*Force1)) +\n",
    "    r'\\quad M1 = ' + sp.latex(evaluate(A1.inv()*Torque1, digits=15)) +\n",
    "    r'\\quad F2 = ' + sp.latex(evaluate(A2.inv()*Force2)) +\n",
    "    r'\\quad M2 = ' + sp.latex(evaluate(A2.inv()*Torque2, digits=15))\n",
    "))\n",
    "\n",
    "print(\"Joint torques\")\n",
    "display(Math(\n",
    "    r'\\tau_1 = ' + sp.latex(evaluate(A1.inv()*Torque1)[2]) +\n",
    "    r'\\quad \\tau_2 = ' + sp.latex(evaluate(A2.inv()*Torque2)[1])\n",
    "))"
   ]
  },
  {
   "cell_type": "markdown",
   "metadata": {},
   "source": [
    "## C++ implementation"
   ]
  },
  {
   "cell_type": "code",
   "execution_count": 65,
   "metadata": {},
   "outputs": [],
   "source": [
    "import sys\n",
    "import os\n",
    "import inspect\n",
    "import numpy as np\n",
    "import matplotlib.pyplot as plt\n",
    "\n",
    "current_dir = os.path.dirname(\n",
    "    os.path.dirname(\n",
    "        os.path.abspath(inspect.getsourcefile(lambda:0))\n",
    "    )\n",
    ")\n",
    "module_path = os.path.join(\n",
    "    current_dir, \n",
    "    \"robot_dynamics_module\", \n",
    "    \"build\", \n",
    "    \"Release\"\n",
    ")\n",
    "sys.path.append(module_path)"
   ]
  },
  {
   "cell_type": "code",
   "execution_count": 66,
   "metadata": {},
   "outputs": [
    {
     "data": {
      "text/latex": [
       "$\\displaystyle D(q) = \\left[\\begin{matrix}28.5 & -4.5\\\\-4.5 & 6.0\\end{matrix}\\right]\\quad C(\\dot{q},q) = \\left[\\begin{matrix}18.1865 & 62.3538\\\\-7.7942 & 0\\end{matrix}\\right]\\quad g(q) = \\left[\\begin{matrix}0\\\\-25.4871\\end{matrix}\\right]$"
      ],
      "text/plain": [
       "<IPython.core.display.Math object>"
      ]
     },
     "metadata": {},
     "output_type": "display_data"
    },
    {
     "name": "stdout",
     "output_type": "stream",
     "text": [
      "Planar Robot Experiment (Static Configuration)\n",
      "================================================\n"
     ]
    },
    {
     "data": {
      "text/latex": [
       "$\\displaystyle q = \\left[\\begin{matrix}0.6283\\\\1.0472\\end{matrix}\\right]\\quad \\dot{q} = \\left[\\begin{matrix}3\\\\7\\end{matrix}\\right]\\quad \\ddot{q} = \\left[\\begin{matrix}4\\\\9\\end{matrix}\\right]$"
      ],
      "text/plain": [
       "<IPython.core.display.Math object>"
      ]
     },
     "metadata": {},
     "output_type": "display_data"
    },
    {
     "name": "stdout",
     "output_type": "stream",
     "text": [
      "\n",
      "C++ Module Torque Output:\n",
      "  Joint 1: 564.5364\n",
      "  Joint 2: -12.8698\n",
      "\n"
     ]
    }
   ],
   "source": [
    "# Import the compiled C++ torque calculator\n",
    "import freecad_robotics.compute_torque as compute_torque\n",
    "\n",
    "\n",
    "DH_params = [\n",
    "    [0.0, 0.0, 0.0, np.pi/2],\n",
    "    [0.0, 0.0, 0.0, 0.0]\n",
    "]\n",
    "\n",
    "# Masses\n",
    "M_arr = np.array([M, M])   # m1 = m2 = 2 kg\n",
    "\n",
    "# Inertia (diagonal) for each link\n",
    "I_val = (1/12) * M * l**2\n",
    "InertiaMatrices = [\n",
    "    np.array([[I_val, 0,     0],\n",
    "              [0,     I_val, 0],\n",
    "              [0,     0,     0]]),\n",
    "    np.array([[I_val, 0,     0],\n",
    "              [0,     0,     0],\n",
    "              [0,     0,     I_val]])\n",
    "]\n",
    "\n",
    "# Centers of mass in each link frame\n",
    "CenterOfMass = np.array([\n",
    "    [0,    0,   l/2],\n",
    "    [0,    l/2, l  ]\n",
    "])\n",
    "\n",
    "\n",
    "# Compute torques\n",
    "tau_cpp = compute_torque.computeJointTorques(\n",
    "    q, q_dot, q_ddot,\n",
    "    M_arr, InertiaMatrices, CenterOfMass,\n",
    "    np.array(DH_params)\n",
    ")\n",
    "\n",
    "\n",
    "D_mat, C_mat, g_arr = compute_torque.getMatrices(\n",
    "    q, q_dot,\n",
    "    M_arr, InertiaMatrices, CenterOfMass,\n",
    "    DH_params\n",
    ")\n",
    "\n",
    "# Print the results\n",
    "display(Math(\n",
    "    r'D(q) = ' + sp.latex(evaluate(sp.Matrix(D_mat))) +\n",
    "    r'\\quad C(\\dot{q},q) = ' + sp.latex(evaluate(sp.Matrix(C_mat))) +\n",
    "    r'\\quad g(q) = ' + sp.latex(evaluate(sp.Matrix(g_arr)))\n",
    "))\n",
    "\n",
    "def print_torques(label, tau):\n",
    "    print(f\"{label} Torque Output:\")\n",
    "    for i, t in enumerate(tau):\n",
    "        print(f\"  Joint {i+1}: {t:.4f}\")\n",
    "    print()\n",
    "\n",
    "print(\"Planar Robot Experiment (Static Configuration)\")\n",
    "print(\"================================================\")\n",
    "display(Math(\n",
    "    r'q = ' + sp.latex(evaluate(sp.Matrix(q))) +\n",
    "    r'\\quad \\dot{q} = ' + sp.latex(sp.Matrix(q_dot)) +\n",
    "    r'\\quad \\ddot{q} = ' + sp.latex(sp.Matrix(q_ddot))))\n",
    "print()\n",
    "\n",
    "print_torques(\"C++ Module\", tau_cpp)"
   ]
  },
  {
   "cell_type": "code",
   "execution_count": 67,
   "metadata": {},
   "outputs": [
    {
     "name": "stdout",
     "output_type": "stream",
     "text": [
      "Robotics Toolbox is not available. Skipping this part.\n",
      "Make sure you have the toolbox installed and numpy < 2.0.0.\n",
      "Robotics Toolbox Torque Output:\n",
      "  Joint 1: 0.0000\n",
      "  Joint 2: 0.0000\n",
      "\n"
     ]
    }
   ],
   "source": [
    "# Robotics toolbox only works with numpy < 2.0.0. Create an environment with numpy < 2.0.0 to run this:\n",
    "\n",
    "\n",
    "def compute_torque_roboticstoolbox(\n",
    "    q, q_dot, q_ddot, M, InertiaMatrices, CenterOfMass, DH_params\n",
    "):\n",
    "    from roboticstoolbox import DHRobot, RevoluteDH\n",
    "\n",
    "    n_dof = len(DH_params)\n",
    "    links = []\n",
    "    for i in range(n_dof):\n",
    "        θ_off, d, a, α = DH_params[i]\n",
    "        link = RevoluteDH(d=d, a=a, alpha=α)\n",
    "        link.m = M[i]\n",
    "        link.r = CenterOfMass[i]\n",
    "        link.I = InertiaMatrices[i]\n",
    "        links.append(link)\n",
    "\n",
    "    robot = DHRobot(links)\n",
    "    gravity = np.array([0, 0, -9.81])\n",
    "    tau = robot.rne(q, q_dot, q_ddot, gravity)\n",
    "    return tau\n",
    "\n",
    "\n",
    "try:\n",
    "    tau_rtb = compute_torque_roboticstoolbox(\n",
    "        q, q_dot, q_ddot,\n",
    "        M_arr, InertiaMatrices, CenterOfMass,\n",
    "        DH_params\n",
    "    )\n",
    "except:\n",
    "    print(\"Robotics Toolbox is not available. Skipping this part.\")\n",
    "    print(\"Make sure you have the toolbox installed and numpy < 2.0.0.\")\n",
    "    tau_rtb = np.zeros(len(q))\n",
    "\n",
    "\n",
    "print_torques(\"Robotics Toolbox\", tau_rtb)"
   ]
  }
 ],
 "metadata": {
  "kernelspec": {
   "display_name": "test3",
   "language": "python",
   "name": "python3"
  },
  "language_info": {
   "codemirror_mode": {
    "name": "ipython",
    "version": 3
   },
   "file_extension": ".py",
   "mimetype": "text/x-python",
   "name": "python",
   "nbconvert_exporter": "python",
   "pygments_lexer": "ipython3",
   "version": "3.11.11"
  }
 },
 "nbformat": 4,
 "nbformat_minor": 2
}
