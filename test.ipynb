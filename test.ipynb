{
 "cells": [
  {
   "cell_type": "code",
   "execution_count": 6,
   "metadata": {},
   "outputs": [
    {
     "name": "stdout",
     "output_type": "stream",
     "text": [
      "265.0718801466388\n"
     ]
    }
   ],
   "source": [
    "import numpy as np\n",
    "V = (1/2)**2*np.pi\n",
    "rho = 2700\n",
    "m = V*rho\n",
    "I = 1/2*m*(1/2)**2\n",
    "print(I)\n",
    "\n",
    "alpha = 1\n",
    "\n",
    "tau = I*alpha"
   ]
  }
 ],
 "metadata": {
  "kernelspec": {
   "display_name": "Python 3",
   "language": "python",
   "name": "python3"
  },
  "language_info": {
   "codemirror_mode": {
    "name": "ipython",
    "version": 3
   },
   "file_extension": ".py",
   "mimetype": "text/x-python",
   "name": "python",
   "nbconvert_exporter": "python",
   "pygments_lexer": "ipython3",
   "version": "3.11.10"
  }
 },
 "nbformat": 4,
 "nbformat_minor": 2
}
